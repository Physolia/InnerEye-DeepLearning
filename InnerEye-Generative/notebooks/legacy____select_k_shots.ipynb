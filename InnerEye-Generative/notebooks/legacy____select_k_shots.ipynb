{
 "cells": [
  {
   "cell_type": "code",
   "execution_count": null,
   "source": [
    "import pandas as pd\n",
    "import numpy as np\n",
    "df = pd.read_csv('')"
   ],
   "outputs": [],
   "metadata": {}
  },
  {
   "cell_type": "code",
   "execution_count": null,
   "source": [
    "np.sort(df.loc[df.subject==508].file)"
   ],
   "outputs": [],
   "metadata": {}
  },
  {
   "cell_type": "code",
   "execution_count": null,
   "source": [
    "df.loc[0]"
   ],
   "outputs": [],
   "metadata": {}
  },
  {
   "cell_type": "code",
   "execution_count": null,
   "source": [
    "len(df.loc[df.set=='train'].subject.unique())"
   ],
   "outputs": [],
   "metadata": {}
  },
  {
   "cell_type": "code",
   "execution_count": null,
   "source": [
    "slices = np.arange(23)\n",
    "np.random.shuffle(slices)\n",
    "pats = np.array(df.loc[df.set=='train'].subject.unique())\n",
    "np.random.shuffle(pats)"
   ],
   "outputs": [],
   "metadata": {}
  },
  {
   "cell_type": "code",
   "execution_count": null,
   "source": [
    "files = []\n",
    "for pat, _slice in zip(pats, slices):\n",
    "    files.append('scans/img_pat_{}_ct_slice_{}.pkl'.format(pat, _slice))"
   ],
   "outputs": [],
   "metadata": {}
  },
  {
   "cell_type": "code",
   "execution_count": null,
   "source": [
    "import matplotlib.pyplot as plt\n",
    "import pickle\n",
    "fig, axs = plt.subplots(4, 6, figsize=(22, 15))\n",
    "for i, file in enumerate(files):\n",
    "    with open(file, 'rb') as f:\n",
    "        img = pickle.load(f)\n",
    "    axs.flatten()[i].imshow(img, cmap='gray')\n",
    "    axs.flatten()[i].set_title('patient {} slice {}'.format(pats[i], slices[i]))"
   ],
   "outputs": [],
   "metadata": {}
  },
  {
   "cell_type": "code",
   "execution_count": null,
   "source": [
    "colours = np.array([[0.,0.,1.], [0.13,0.4,0.], [1., .1, .1]])\n",
    "colours = colours[:, :, np.newaxis, np.newaxis]\n",
    "\n",
    "\n",
    "fig, axs = plt.subplots(6, 4, figsize=(15,20))\n",
    "for i, file in enumerate(files):\n",
    "    ax = axs.flatten()[i]\n",
    "    with open(file, 'rb') as f:\n",
    "        img = pickle.load(f)\n",
    "    # img preprocessing\n",
    "    img = np.stack([img] * 3, 0)\n",
    "    img = (img + 1.) / 2.\n",
    "    # \n",
    "    labs = np.empty((0, 128, 128))\n",
    "    for label in ['femur_l', 'femur_r', 'bladder', 'prostate']:\n",
    "        with open('img_pat_{}_{}_slice_{}.pkl'.format(pats[i], label, slices[i]), 'rb') as f:\n",
    "            l = pickle.load(f)\n",
    "        labs = np.concatenate((labs, l[np.newaxis]),0)\n",
    "    labs[1] = labs[0] + labs[1]\n",
    "    labs = labs[1:]\n",
    "    labs = np.stack([labs] * 3, 1)\n",
    "    clabel = (labs * colours).sum(0)\n",
    "    img_n_label = np.moveaxis(img * .5 + clabel,0 , -1)\n",
    "    ax.imshow(img_n_label)\n",
    "    axs.flatten()[i].set_title('patient {} slice {}'.format(pats[i], slices[i]))"
   ],
   "outputs": [],
   "metadata": {}
  },
  {
   "cell_type": "code",
   "execution_count": null,
   "source": [
    "new_idx= []\n",
    "for file in files:\n",
    "    new_idx.append(df.loc[df.file == file].index.item())"
   ],
   "outputs": [],
   "metadata": {}
  },
  {
   "cell_type": "code",
   "execution_count": null,
   "source": [
    "df.head()"
   ],
   "outputs": [],
   "metadata": {}
  },
  {
   "cell_type": "code",
   "execution_count": null,
   "source": [
    "old_idx = list(df.index)\n",
    "for i, idx in enumerate(new_idx):\n",
    "    old_idx.remove(idx)\n",
    "    old_idx.insert(i, idx)"
   ],
   "outputs": [],
   "metadata": {}
  },
  {
   "cell_type": "code",
   "execution_count": null,
   "source": [
    "reshuffled_df = df.loc[old_idx]"
   ],
   "outputs": [],
   "metadata": {}
  },
  {
   "cell_type": "code",
   "execution_count": null,
   "source": [
    "reshuffled_df.reset_index(inplace=True)\n",
    "reshuffled_df.drop(columns=['index'], inplace=True)"
   ],
   "outputs": [],
   "metadata": {}
  },
  {
   "cell_type": "code",
   "execution_count": null,
   "source": [
    "reshuffled_df.head()"
   ],
   "outputs": [],
   "metadata": {}
  },
  {
   "cell_type": "code",
   "execution_count": null,
   "source": [
    "fig, axs = plt.subplots(4, 6, figsize=(22, 15))\n",
    "for i, ax in enumerate(axs.flatten()):\n",
    "    file = reshuffled_df.loc[i, 'file']\n",
    "    with open(file, 'rb') as f:\n",
    "        img = pickle.load(f)\n",
    "    ax.imshow(img, cmap='gray')\n",
    "    pat = reshuffled_df.loc[i, 'subject']\n",
    "    slice = file.rsplit('_slice_')[1].rsplit('.')[0]\n",
    "    ax.set_title('k: {} -- patient {} slice {}'.format(i, pat, slice))\n",
    "plt.tight_layout()\n",
    "plt.savefig('first_k_pats.png')"
   ],
   "outputs": [],
   "metadata": {}
  },
  {
   "cell_type": "code",
   "execution_count": null,
   "source": [
    "fig, axs = plt.subplots(4, 6, figsize=(22, 15))\n",
    "for i, ax in enumerate(axs.flatten()):\n",
    "    file = reshuffled_df.loc[i, 'file']\n",
    "    with open(file, 'rb') as f:\n",
    "        img = pickle.load(f)\n",
    "    # img preprocessing\n",
    "    img = np.stack([img] * 3, 0)\n",
    "    img = (img + 1.) / 2.\n",
    "    # \n",
    "    labs = np.empty((0, 128, 128))\n",
    "    for label in ['femur_l', 'femur_r', 'bladder', 'prostate']:\n",
    "        with open(reshuffled_df.loc[i, label], 'rb') as f:\n",
    "            l = pickle.load(f)\n",
    "        labs = np.concatenate((labs, l[np.newaxis]),0)\n",
    "    labs[1] = labs[0] + labs[1]\n",
    "    labs = labs[1:]\n",
    "    labs = np.stack([labs] * 3, 1)\n",
    "    clabel = (labs * colours).sum(0)\n",
    "    img_n_label = np.moveaxis(img * .5 + clabel,0 , -1)\n",
    "    ax.imshow(img_n_label)\n",
    "    pat = reshuffled_df.loc[i, 'subject']\n",
    "    slice = file.rsplit('_slice_')[1].rsplit('.')[0]\n",
    "    ax.set_title('k: {} -- patient {} slice {}'.format(i, pat, slice))\n",
    "plt.tight_layout()\n",
    "plt.savefig('first_k_pat_with_seg.png')\n"
   ],
   "outputs": [],
   "metadata": {}
  },
  {
   "cell_type": "code",
   "execution_count": null,
   "source": [
    "fig, axs = plt.subplots(4, 6, figsize=(22, 15))\n",
    "n_pats = 4 * 6\n",
    "slices = [int(file.rsplit('_slice_')[1].rsplit('.')[0]) for file in reshuffled_df.file[:n_pats]]\n",
    "idx = np.argsort(np.array(slices))\n",
    "for i, ax in enumerate(axs.flatten()):\n",
    "    file = reshuffled_df.loc[idx[i], 'file']\n",
    "    with open(file, 'rb') as f:\n",
    "        img = pickle.load(f)\n",
    "    # img preprocessing\n",
    "    img = np.stack([img] * 3, 0)\n",
    "    img = (img + 1.) / 2.\n",
    "    # \n",
    "    labs = np.empty((0, 128, 128))\n",
    "    for label in ['femur_l', 'femur_r', 'bladder', 'prostate']:\n",
    "        with open(reshuffled_df.loc[idx[i], label], 'rb') as f:\n",
    "            l = pickle.load(f)\n",
    "        labs = np.concatenate((labs, l[np.newaxis]),0)\n",
    "    labs[1] = labs[0] + labs[1]\n",
    "    labs = labs[1:]\n",
    "    labs = np.stack([labs] * 3, 1)\n",
    "    clabel = (labs * colours).sum(0)\n",
    "    img_n_label = np.moveaxis(img * .5 + clabel,0 , -1)\n",
    "    ax.imshow(img_n_label)\n",
    "    pat = reshuffled_df.loc[i, 'subject']\n",
    "    slice = file.rsplit('_slice_')[1].rsplit('.')[0]\n",
    "    ax.set_title('patient {} slice {}'.format(pat, slice))\n",
    "plt.tight_layout()\n",
    "plt.savefig('first_k_pat_with_seg_ordered.png')\n",
    "plt.show()"
   ],
   "outputs": [],
   "metadata": {}
  },
  {
   "cell_type": "code",
   "execution_count": null,
   "source": [
    "reshuffled_df.to_csv('', index=False)"
   ],
   "outputs": [],
   "metadata": {}
  }
 ],
 "metadata": {
  "orig_nbformat": 4,
  "language_info": {
   "name": "python",
   "version": "3.7.3",
   "mimetype": "text/x-python",
   "codemirror_mode": {
    "name": "ipython",
    "version": 3
   },
   "pygments_lexer": "ipython3",
   "nbconvert_exporter": "python",
   "file_extension": ".py"
  },
  "kernelspec": {
   "name": "python3",
   "display_name": "Python 3.7.3 64-bit ('InnerEyePrivate': conda)"
  },
  "interpreter": {
   "hash": "967fa4b60f184cdb1e4943e7e2dc88e1fa22a02ef18c81927ddf08977696de72"
  }
 },
 "nbformat": 4,
 "nbformat_minor": 2
}