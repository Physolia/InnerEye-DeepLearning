{
 "cells": [
  {
   "cell_type": "code",
   "execution_count": null,
   "metadata": {},
   "outputs": [],
   "source": [
    "import sys; sys.path.append(\"../../..\")"
   ]
  },
  {
   "cell_type": "code",
   "execution_count": null,
   "metadata": {},
   "outputs": [],
   "source": [
    "import pandas as pd\n",
    "from InnerEye.ML.Histopathology.datasets.tcga_crck_tiles_dataset import TcgaCrckTilesDataset\n",
    "\n",
    "dataset_dir = \"/tmp/datasets/TCGA-CRCk\"\n",
    "df = pd.read_csv(dataset_dir + \"/dataset.csv\")\n",
    "dataset = TcgaCrckTilesDataset(dataset_dir, train=True)"
   ]
  },
  {
   "cell_type": "code",
   "execution_count": null,
   "metadata": {},
   "outputs": [],
   "source": [
    "pd.crosstab(df.split, df.label, margins=True)"
   ]
  },
  {
   "cell_type": "code",
   "execution_count": null,
   "metadata": {},
   "outputs": [],
   "source": [
    "import numpy as np\n",
    "dataset0, = np.where(dataset.dataset_df.label == 0)\n",
    "dataset1, = np.where(dataset.dataset_df.label == 1)"
   ]
  },
  {
   "cell_type": "code",
   "execution_count": null,
   "metadata": {},
   "outputs": [],
   "source": [
    "import matplotlib.pyplot as plt\n",
    "\n",
    "fig, axs = plt.subplots(4, 4, figsize=(10, 10))\n",
    "for idx, ax in zip(np.concatenate([dataset0[:8], dataset1[:8]]), axs.flat):\n",
    "    sample = dataset[idx]\n",
    "    ax.imshow(sample['image'])\n",
    "    ax.set_title(f\"Label: {['MSS', 'MSIMUT'][sample['label']]}\")\n",
    "    ax.set_axis_off()"
   ]
  }
 ],
 "metadata": {
  "interpreter": {
   "hash": "cdc3f848c7327395c3b0eca96987aa60e4df7452ebeff7b515bbb209eb2eca70"
  },
  "kernelspec": {
   "display_name": "Python 3.7.3 64-bit ('histo-new': conda)",
   "name": "python3"
  },
  "language_info": {
   "codemirror_mode": {
    "name": "ipython",
    "version": 3
   },
   "file_extension": ".py",
   "mimetype": "text/x-python",
   "name": "python",
   "nbconvert_exporter": "python",
   "pygments_lexer": "ipython3",
   "version": "3.7.3"
  },
  "orig_nbformat": 4
 },
 "nbformat": 4,
 "nbformat_minor": 2
}
