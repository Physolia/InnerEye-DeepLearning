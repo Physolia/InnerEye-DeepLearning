{
 "cells": [
  {
   "cell_type": "code",
   "execution_count": 2,
   "metadata": {},
   "outputs": [],
   "source": [
    "from enum import Enum\n",
    "\n",
    "class ResultsKeys(Enum):\n",
    "    SLIDE_ID = 'slide_id'\n",
    "    TILE_ID = 'tile_id'\n",
    "    IMAGE = 'image'\n",
    "    PATH = 'img_path'\n",
    "    LOSS = 'loss'\n",
    "    PROB = 'prob'\n",
    "    PRED_LABEL = 'pred_label'\n",
    "    TRUE_LABEL = 'true_label'\n",
    "    BAG_ATTN = 'bag_attn'"
   ]
  },
  {
   "cell_type": "code",
   "execution_count": 3,
   "metadata": {},
   "outputs": [
    {
     "data": {
      "text/plain": [
       "<ResultsKeys.SLIDE_ID: 'slide_id'>"
      ]
     },
     "execution_count": 3,
     "metadata": {},
     "output_type": "execute_result"
    }
   ],
   "source": [
    "ResultsKeys.SLIDE_ID"
   ]
  }
 ],
 "metadata": {
  "interpreter": {
   "hash": "8069bf114393a90c64c42623bede2687f977579082907503ba1b58c57ece406d"
  },
  "kernelspec": {
   "display_name": "Python 3.7.3 64-bit ('InnerEyePrivate': conda)",
   "language": "python",
   "name": "python3"
  },
  "language_info": {
   "codemirror_mode": {
    "name": "ipython",
    "version": 3
   },
   "file_extension": ".py",
   "mimetype": "text/x-python",
   "name": "python",
   "nbconvert_exporter": "python",
   "pygments_lexer": "ipython3",
   "version": "3.7.3"
  },
  "orig_nbformat": 4
 },
 "nbformat": 4,
 "nbformat_minor": 2
}
